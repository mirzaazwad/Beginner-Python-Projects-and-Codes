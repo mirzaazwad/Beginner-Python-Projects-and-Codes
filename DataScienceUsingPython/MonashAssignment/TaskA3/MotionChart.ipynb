{
 "cells": [
  {
   "cell_type": "markdown",
   "metadata": {},
   "source": [
    "# Motion Chart with Python\n",
    "In this activity, we are going to learn how to create motion charts with Python."
   ]
  },
  {
   "cell_type": "markdown",
   "metadata": {},
   "source": [
    "## Step 1: Importing libraries and packages\n",
    "Like other python libraries, we have to import before use. \n",
    "Also if we know the which part of the library we need, it is more efficient to import the specific part rather than the whole library. \n",
    "In this activity, we will only need MotionChart, so let's begin with importing MotionChart from it's package. \n",
    "\n",
    "For this tutorial, we will put some sample data into DataFrame structure and then show their changes during time with MotionChart tools. So we will also need to import pandas.\n",
    "\n",
    "Notice that if you are using your own machine, you will need to install motionchart library in your python before you import it, otherwise you will get an error when executing the following code. \n",
    "Please following the instruction <a href = 'https://github.com/hmelberg/motionchart'> here </a> for installing motionchart.\n",
    "In a simple case, you will only need to open your terminal (mac) or windows prompt, and enter the following:\n",
    "\n",
    "    pip install motionchart \n",
    "\n",
    "You will probably need to install also its denpendency: pyperclip\n",
    "\n",
    "    pip install pyperclip"
   ]
  },
  {
   "cell_type": "code",
   "execution_count": 1,
   "metadata": {},
   "outputs": [],
   "source": [
    "from motionchart.motionchart import MotionChart\n",
    "import pandas as pd\n",
    "\n"
   ]
  },
  {
   "cell_type": "markdown",
   "metadata": {},
   "source": [
    "## Step 2: Sample data\n",
    "Now we need some sample data and we will use the content of following table. \n",
    "This table shows GDP, Life Expectancy and Population of some countries of several years.\n",
    "\n",
    "#### Sample Data Table\n",
    "| Countries | Years | GDP | Life Expectancy | Population | Region\n",
    "|:------------:|:--------:|:------:|:-------:|:----------------------:|:--------------:\n",
    "| USA | 1990 | 31744 | 76 | 250 | North America\n",
    "| USA | 2000 | 38850 | 77 | 285 | North America\n",
    "| China | 1990 | 1466 | 68 | 1440 | Asia\n",
    "| China | 2000 | 2806 | 72 | 1270 | Asia\n",
    "| Japan | 1990 | 25870 | 79 | 124 | Asia\n",
    "| Japan | 2000 | 28569 | 81 | 127 | Asia\n",
    "| Brazil | 1990 | 7247 | 66 | 151 | South America\n",
    "| Brazil | 2000 | 8184 | 71 | 178 | South America\n"
   ]
  },
  {
   "cell_type": "markdown",
   "metadata": {},
   "source": [
    "## Step 3: Storing sample data into pandas dataframe\n",
    "As previously mentioned, we will put the sample data into a DataFrame object."
   ]
  },
  {
   "cell_type": "markdown",
   "metadata": {},
   "source": [
    "### Enter sample data manually\n",
    "In a simply example, we can enter the sample data manually one by one. The following code creates a dataframe with the sample data and set its column names as listed previously."
   ]
  },
  {
   "cell_type": "code",
   "execution_count": 2,
   "metadata": {},
   "outputs": [
    {
     "data": {
      "text/html": [
       "<div>\n",
       "<style scoped>\n",
       "    .dataframe tbody tr th:only-of-type {\n",
       "        vertical-align: middle;\n",
       "    }\n",
       "\n",
       "    .dataframe tbody tr th {\n",
       "        vertical-align: top;\n",
       "    }\n",
       "\n",
       "    .dataframe thead th {\n",
       "        text-align: right;\n",
       "    }\n",
       "</style>\n",
       "<table border=\"1\" class=\"dataframe\">\n",
       "  <thead>\n",
       "    <tr style=\"text-align: right;\">\n",
       "      <th></th>\n",
       "      <th>Countries</th>\n",
       "      <th>Time</th>\n",
       "      <th>GDP</th>\n",
       "      <th>Life Expectancy</th>\n",
       "      <th>Population</th>\n",
       "      <th>Region</th>\n",
       "    </tr>\n",
       "  </thead>\n",
       "  <tbody>\n",
       "    <tr>\n",
       "      <th>0</th>\n",
       "      <td>USA</td>\n",
       "      <td>1990</td>\n",
       "      <td>31744</td>\n",
       "      <td>76</td>\n",
       "      <td>250</td>\n",
       "      <td>North America</td>\n",
       "    </tr>\n",
       "    <tr>\n",
       "      <th>1</th>\n",
       "      <td>USA</td>\n",
       "      <td>2000</td>\n",
       "      <td>38850</td>\n",
       "      <td>77</td>\n",
       "      <td>285</td>\n",
       "      <td>North America</td>\n",
       "    </tr>\n",
       "    <tr>\n",
       "      <th>2</th>\n",
       "      <td>China</td>\n",
       "      <td>1990</td>\n",
       "      <td>1466</td>\n",
       "      <td>68</td>\n",
       "      <td>1440</td>\n",
       "      <td>Asia</td>\n",
       "    </tr>\n",
       "    <tr>\n",
       "      <th>3</th>\n",
       "      <td>China</td>\n",
       "      <td>2000</td>\n",
       "      <td>2806</td>\n",
       "      <td>72</td>\n",
       "      <td>1270</td>\n",
       "      <td>Asia</td>\n",
       "    </tr>\n",
       "    <tr>\n",
       "      <th>4</th>\n",
       "      <td>Japan</td>\n",
       "      <td>1990</td>\n",
       "      <td>25870</td>\n",
       "      <td>79</td>\n",
       "      <td>124</td>\n",
       "      <td>Asia</td>\n",
       "    </tr>\n",
       "    <tr>\n",
       "      <th>5</th>\n",
       "      <td>Japan</td>\n",
       "      <td>2000</td>\n",
       "      <td>28569</td>\n",
       "      <td>81</td>\n",
       "      <td>127</td>\n",
       "      <td>Asia</td>\n",
       "    </tr>\n",
       "    <tr>\n",
       "      <th>6</th>\n",
       "      <td>Brazil</td>\n",
       "      <td>1990</td>\n",
       "      <td>7247</td>\n",
       "      <td>66</td>\n",
       "      <td>151</td>\n",
       "      <td>South America</td>\n",
       "    </tr>\n",
       "    <tr>\n",
       "      <th>7</th>\n",
       "      <td>Brazil</td>\n",
       "      <td>2000</td>\n",
       "      <td>8184</td>\n",
       "      <td>71</td>\n",
       "      <td>178</td>\n",
       "      <td>South America</td>\n",
       "    </tr>\n",
       "  </tbody>\n",
       "</table>\n",
       "</div>"
      ],
      "text/plain": [
       "  Countries  Time    GDP Life Expectancy Population         Region\n",
       "0       USA  1990  31744              76        250  North America\n",
       "1       USA  2000  38850              77        285  North America\n",
       "2     China  1990   1466              68       1440           Asia\n",
       "3     China  2000   2806              72       1270           Asia\n",
       "4     Japan  1990  25870              79        124           Asia\n",
       "5     Japan  2000  28569              81        127           Asia\n",
       "6    Brazil  1990   7247              66        151  South America\n",
       "7    Brazil  2000   8184              71        178  South America"
      ]
     },
     "execution_count": 2,
     "metadata": {},
     "output_type": "execute_result"
    }
   ],
   "source": [
    "# create a pandas dataframe with the sample data values. we passed 2D list as argument for pd.dataframe\n",
    "sampleData = pd.DataFrame([\n",
    "['USA', '1990', '31744', '76', '250', 'North America'],\n",
    "['USA', '2000', '38850', '77', '285', 'North America'],\n",
    "['China', '1990', '1466', '68', '1440', 'Asia'],\n",
    "['China', '2000', '2806', '72', '1270', 'Asia'],\n",
    "['Japan', '1990', '25870', '79', '124', 'Asia'],\n",
    "['Japan', '2000', '28569', '81', '127', 'Asia'],\n",
    "['Brazil', '1990', '7247', '66', '151', 'South America'],\n",
    "['Brazil', '2000', '8184', '71', '178', 'South America']])\n",
    "\n",
    "sampleData.columns = ['Countries','Time', 'GDP', 'Life Expectancy', 'Population', 'Region']\n",
    "sampleData # we can then have a look at the dataframe"
   ]
  },
  {
   "cell_type": "markdown",
   "metadata": {},
   "source": [
    "### Reading data from csv file\n",
    "In a more complex case where you have a large dataset, manually entering them will not be possible. \n",
    "Now assume we have the sample data in csv format (data.csv; make sure that the data file is in the same directory as this jupyter notebook). \n",
    "The following code will read the data directly from data.csv into a pandas dataframe. \n",
    "We do not even need to set the column names, becaues the headers are automatically recognized as column names."
   ]
  },
  {
   "cell_type": "code",
   "execution_count": 4,
   "metadata": {},
   "outputs": [
    {
     "data": {
      "text/html": [
       "<div>\n",
       "<style scoped>\n",
       "    .dataframe tbody tr th:only-of-type {\n",
       "        vertical-align: middle;\n",
       "    }\n",
       "\n",
       "    .dataframe tbody tr th {\n",
       "        vertical-align: top;\n",
       "    }\n",
       "\n",
       "    .dataframe thead th {\n",
       "        text-align: right;\n",
       "    }\n",
       "</style>\n",
       "<table border=\"1\" class=\"dataframe\">\n",
       "  <thead>\n",
       "    <tr style=\"text-align: right;\">\n",
       "      <th></th>\n",
       "      <th>Time</th>\n",
       "      <th>GDP</th>\n",
       "      <th>Life Expectancy</th>\n",
       "      <th>Countries</th>\n",
       "      <th>Population</th>\n",
       "      <th>Region</th>\n",
       "    </tr>\n",
       "  </thead>\n",
       "  <tbody>\n",
       "    <tr>\n",
       "      <th>0</th>\n",
       "      <td>1990</td>\n",
       "      <td>31744</td>\n",
       "      <td>76</td>\n",
       "      <td>USA</td>\n",
       "      <td>250</td>\n",
       "      <td>North America</td>\n",
       "    </tr>\n",
       "    <tr>\n",
       "      <th>1</th>\n",
       "      <td>2000</td>\n",
       "      <td>38850</td>\n",
       "      <td>77</td>\n",
       "      <td>USA</td>\n",
       "      <td>285</td>\n",
       "      <td>North America</td>\n",
       "    </tr>\n",
       "    <tr>\n",
       "      <th>2</th>\n",
       "      <td>1990</td>\n",
       "      <td>11466</td>\n",
       "      <td>68</td>\n",
       "      <td>China</td>\n",
       "      <td>1440</td>\n",
       "      <td>Asia</td>\n",
       "    </tr>\n",
       "    <tr>\n",
       "      <th>3</th>\n",
       "      <td>2000</td>\n",
       "      <td>12806</td>\n",
       "      <td>72</td>\n",
       "      <td>China</td>\n",
       "      <td>1270</td>\n",
       "      <td>Asia</td>\n",
       "    </tr>\n",
       "    <tr>\n",
       "      <th>4</th>\n",
       "      <td>1990</td>\n",
       "      <td>25870</td>\n",
       "      <td>79</td>\n",
       "      <td>Japan</td>\n",
       "      <td>124</td>\n",
       "      <td>Asia</td>\n",
       "    </tr>\n",
       "    <tr>\n",
       "      <th>5</th>\n",
       "      <td>2000</td>\n",
       "      <td>28569</td>\n",
       "      <td>81</td>\n",
       "      <td>Japan</td>\n",
       "      <td>127</td>\n",
       "      <td>Asia</td>\n",
       "    </tr>\n",
       "    <tr>\n",
       "      <th>6</th>\n",
       "      <td>1990</td>\n",
       "      <td>7247</td>\n",
       "      <td>66</td>\n",
       "      <td>Brazil</td>\n",
       "      <td>151</td>\n",
       "      <td>South America</td>\n",
       "    </tr>\n",
       "    <tr>\n",
       "      <th>7</th>\n",
       "      <td>2000</td>\n",
       "      <td>8184</td>\n",
       "      <td>71</td>\n",
       "      <td>Brazil</td>\n",
       "      <td>178</td>\n",
       "      <td>South America</td>\n",
       "    </tr>\n",
       "  </tbody>\n",
       "</table>\n",
       "</div>"
      ],
      "text/plain": [
       "   Time    GDP  Life Expectancy Countries  Population         Region\n",
       "0  1990  31744               76       USA         250  North America\n",
       "1  2000  38850               77       USA         285  North America\n",
       "2  1990  11466               68     China        1440           Asia\n",
       "3  2000  12806               72     China        1270           Asia\n",
       "4  1990  25870               79     Japan         124           Asia\n",
       "5  2000  28569               81     Japan         127           Asia\n",
       "6  1990   7247               66    Brazil         151  South America\n",
       "7  2000   8184               71    Brazil         178  South America"
      ]
     },
     "execution_count": 4,
     "metadata": {},
     "output_type": "execute_result"
    }
   ],
   "source": [
    "# read in the sample data from data.csv\n",
    "sampleData = pd.read_csv('data.csv')\n",
    "# have a look at the dataframe, it should be exactly the same as the one we had before\n",
    "sampleData\n",
    "\n"
   ]
  },
  {
   "cell_type": "markdown",
   "metadata": {},
   "source": [
    "## Step 4: Creating motion chart\n",
    "In the following, we pass our data to MotionChart to make them animate and show thier changes."
   ]
  },
  {
   "cell_type": "markdown",
   "metadata": {},
   "source": [
    "The following html code block is just to make sure that you will see the entire motion chart nicely in the output cell."
   ]
  },
  {
   "cell_type": "code",
   "execution_count": 5,
   "metadata": {},
   "outputs": [
    {
     "data": {
      "text/html": [
       "<style> /* html helps to build a frame work\n",
       ".output_wrapper, .output { \n",
       "    height:auto !important;\n",
       "    max-height:1000px;  /* your desired max-height here */\n",
       "}\n",
       ".output_scroll {\n",
       "    box-shadow:none !important;\n",
       "    webkit-box-shadow:none !important; /* none is a value\n",
       "}\n",
       "</style> \n",
       "<!-- cascading style sheet<style>, top one opening tag<style>, and last one closing. for each styel tag we can see embabed CSS(cascading style sheets), .outpu and .output rapper called selecter; box, height called properties...  </style>-->\n"
      ],
      "text/plain": [
       "<IPython.core.display.HTML object>"
      ]
     },
     "metadata": {},
     "output_type": "display_data"
    }
   ],
   "source": [
    "%%html  \n",
    "<style> /* html helps to build a frame work\n",
    ".output_wrapper, .output { \n",
    "    height:auto !important;\n",
    "    max-height:1000px;  /* your desired max-height here */\n",
    "}\n",
    ".output_scroll {\n",
    "    box-shadow:none !important;\n",
    "    webkit-box-shadow:none !important; /* none is a value\n",
    "}\n",
    "</style> \n",
    "<!-- cascading style sheet<style>, top one opening tag<style>, and last one closing. for each styel tag we can see embabed CSS(cascading style sheets), .outpu and .output rapper called selecter; box, height called properties...  </style>-->"
   ]
  },
  {
   "cell_type": "code",
   "execution_count": 8,
   "metadata": {
    "scrolled": false
   },
   "outputs": [
    {
     "data": {
      "text/html": [
       "\n",
       "        <iframe\n",
       "            width=\"900\"\n",
       "            height=\"700\"\n",
       "            src=\"mc_temp.html\"\n",
       "            frameborder=\"0\"\n",
       "            allowfullscreen\n",
       "        ></iframe>\n",
       "        "
      ],
      "text/plain": [
       "<IPython.lib.display.IFrame at 0x7f206a3960b8>"
      ]
     },
     "metadata": {},
     "output_type": "display_data"
    }
   ],
   "source": [
    "# now generate the motionchart and show it in the notebook\n",
    "mChart = MotionChart(df = sampleData)\n",
    "mChart.to_notebook()\n"
   ]
  },
  {
   "cell_type": "markdown",
   "metadata": {},
   "source": [
    "At first, we've got a motion chart that doesn't looks quite right. \n",
    "There are some defult settings which may not be what we want, e.g., what we will use for x and y axis, what will be shown as size, etc.\n",
    "Therefore, we will have to reset the options and parameters. \n",
    "You can do this when you create your motion chart (with coding) or change the setting with the active motion chart panel."
   ]
  },
  {
   "cell_type": "code",
   "execution_count": 9,
   "metadata": {},
   "outputs": [
    {
     "data": {
      "text/html": [
       "\n",
       "        <iframe\n",
       "            width=\"900\"\n",
       "            height=\"700\"\n",
       "            src=\"mc_temp.html\"\n",
       "            frameborder=\"0\"\n",
       "            allowfullscreen\n",
       "        ></iframe>\n",
       "        "
      ],
      "text/plain": [
       "<IPython.lib.display.IFrame at 0x7f2068e963c8>"
      ]
     },
     "metadata": {},
     "output_type": "display_data"
    }
   ],
   "source": [
    "mChart = MotionChart(df = sampleData, key='Time', x='GDP', y='Life Expectancy', xscale='linear', yscale='linear',\n",
    "                     size='Population', color='Region', category='Countries')\n",
    "\n",
    "mChart.to_notebook() # we are unable to do stastical analysis but it allows to see visuationzations"
   ]
  },
  {
   "cell_type": "markdown",
   "metadata": {},
   "source": [
    "To change the setting directly in the motion chart, move your mouse towards the top right of the motion chart, you'll see a blue long rectangle. Once you hover your mouse on the rectangle, it will show all the options. \n",
    "In this example, we choose the following settings:\n",
    "- Key: Time\n",
    "- X-Axis: GDP\n",
    "- Y-Ais: Life Expecta\n",
    "- Size: Population\n",
    "- Color: Region\n",
    "- Category: Countries\n",
    "\n",
    "The correct setting would look like this:\n",
    "<img src=\"setting.png\" width=\"760\">\n",
    "\n",
    "Once you've reset the options, you are free to play around with the motion chart. \n",
    "\n",
    "In fact, there are a lot of controls in Python Motion Charts, two buttons on top and some setting panel on right side. \n",
    "You can change the chart setting and generate any visualization you get. "
   ]
  },
  {
   "cell_type": "markdown",
   "metadata": {},
   "source": [
    "#### Question:\n",
    "Looking at the data, we've only got data in 1990 and 2000. However, it seems that the data points changes smoothly from 1990 to 2000 - do you know what is going on?"
   ]
  },
  {
   "cell_type": "markdown",
   "metadata": {},
   "source": [
    "## Step 5: Adding the Australian data\n",
    "\n",
    "In this step, you are to research about the data (GDP or appriximate, etc.) of Australia and add that into the dataset. You then can re-generate the motion chart and compare the Australian data with other countries."
   ]
  },
  {
   "cell_type": "markdown",
   "metadata": {},
   "source": [
    "## Step 6: Create your own motion chart\n",
    "\n",
    "There are other datasets would be suitable to be visualised via motion chart. \n",
    "Now you can explore a dataset of your own interest and visualise it using motion chart.\n",
    "\n",
    "You can also get a big dataset from GapMinder: <a href=\"http://www.gapminder.org/data/\">http://www.gapminder.org/data/</a> (or from US labor stats, see:\n",
    "<a href=\"http://www.bls.gov/osmr/pdf/st110110.pdf\">www.bls.gov/osmr/pdf/st110110.pdf</a>).\n",
    "\n",
    "####  Explore and assess:\n",
    "How do you rate GapMinder as a tool, as used by Rosling, for social good, for education?\n",
    "<br>GapMinder is nearly 10 years old (Google bought it circa 2008), what's available now?\n"
   ]
  }
 ],
 "metadata": {
  "kernelspec": {
   "display_name": "Python 3",
   "language": "python",
   "name": "python3"
  },
  "language_info": {
   "codemirror_mode": {
    "name": "ipython",
    "version": 3
   },
   "file_extension": ".py",
   "mimetype": "text/x-python",
   "name": "python",
   "nbconvert_exporter": "python",
   "pygments_lexer": "ipython3",
   "version": "3.7.3"
  }
 },
 "nbformat": 4,
 "nbformat_minor": 2
}
