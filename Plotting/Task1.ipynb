{
 "cells": [
  {
   "cell_type": "markdown",
   "id": "f9e0031d",
   "metadata": {},
   "source": [
    "#### Importing the required modules or libraries"
   ]
  },
  {
   "cell_type": "code",
   "execution_count": 1,
   "id": "7eff3554",
   "metadata": {},
   "outputs": [],
   "source": [
    "import numpy as np\n",
    "import pandas as pd\n",
    "import matplotlib\n",
    "import matplotlib.pyplot as plt\n"
   ]
  },
  {
   "cell_type": "markdown",
   "id": "e87822a5",
   "metadata": {},
   "source": [
    "#### Read the data.csv using pandas to create a dataframe"
   ]
  },
  {
   "cell_type": "code",
   "execution_count": 2,
   "id": "a7122a3d",
   "metadata": {},
   "outputs": [],
   "source": [
    "df=pd.read_csv('data.csv') "
   ]
  },
  {
   "cell_type": "markdown",
   "id": "57f46e9a",
   "metadata": {},
   "source": [
    "#### Plot using matplotlib.pyplot "
   ]
  },
  {
   "cell_type": "code",
   "execution_count": 16,
   "id": "f5dc513f",
   "metadata": {},
   "outputs": [
    {
     "data": {
      "image/png": "[encoded data removed]",
      "text/plain": [
       "<Figure size 432x288 with 1 Axes>"
      ]
     },
     "metadata": {
      "needs_background": "light"
     },
     "output_type": "display_data"
    }
   ],
   "source": [
    "plt.plot(df['X'],df['Y'],label='Y vs X for data')\n",
    "plt.suptitle('Task: Plot Them All')\n",
    "plt.xlabel('X')\n",
    "plt.ylabel('Y')\n",
    "plt.legend()\n",
    "plt.savefig('Task1')\n",
    "#A bell curve is obtained"
   ]
  },
  {
   "cell_type": "markdown",
   "id": "4e2e8c55",
   "metadata": {},
   "source": [
    "#### Testing dataframe contents"
   ]
  },
  {
   "cell_type": "code",
   "execution_count": 19,
   "id": "1e9a571b",
   "metadata": {},
   "outputs": [
    {
     "data": {
      "text/html": [
       "<div>\n",
       "<style scoped>\n",
       "    .dataframe tbody tr th:only-of-type {\n",
       "        vertical-align: middle;\n",
       "    }\n",
       "\n",
       "    .dataframe tbody tr th {\n",
       "        vertical-align: top;\n",
       "    }\n",
       "\n",
       "    .dataframe thead th {\n",
       "        text-align: right;\n",
       "    }\n",
       "</style>\n",
       "<table border=\"1\" class=\"dataframe\">\n",
       "  <thead>\n",
       "    <tr style=\"text-align: right;\">\n",
       "      <th></th>\n",
       "      <th>X</th>\n",
       "      <th>Y</th>\n",
       "    </tr>\n",
       "  </thead>\n",
       "  <tbody>\n",
       "    <tr>\n",
       "      <th>0</th>\n",
       "      <td>-6.90</td>\n",
       "      <td>1.120000e-22</td>\n",
       "    </tr>\n",
       "    <tr>\n",
       "      <th>1</th>\n",
       "      <td>-6.89</td>\n",
       "      <td>1.290000e-22</td>\n",
       "    </tr>\n",
       "    <tr>\n",
       "      <th>2</th>\n",
       "      <td>-6.88</td>\n",
       "      <td>1.490000e-22</td>\n",
       "    </tr>\n",
       "    <tr>\n",
       "      <th>3</th>\n",
       "      <td>-6.87</td>\n",
       "      <td>1.720000e-22</td>\n",
       "    </tr>\n",
       "    <tr>\n",
       "      <th>4</th>\n",
       "      <td>-6.86</td>\n",
       "      <td>1.990000e-22</td>\n",
       "    </tr>\n",
       "    <tr>\n",
       "      <th>...</th>\n",
       "      <td>...</td>\n",
       "      <td>...</td>\n",
       "    </tr>\n",
       "    <tr>\n",
       "      <th>1376</th>\n",
       "      <td>6.86</td>\n",
       "      <td>1.990000e-22</td>\n",
       "    </tr>\n",
       "    <tr>\n",
       "      <th>1377</th>\n",
       "      <td>6.87</td>\n",
       "      <td>1.720000e-22</td>\n",
       "    </tr>\n",
       "    <tr>\n",
       "      <th>1378</th>\n",
       "      <td>6.88</td>\n",
       "      <td>1.490000e-22</td>\n",
       "    </tr>\n",
       "    <tr>\n",
       "      <th>1379</th>\n",
       "      <td>6.89</td>\n",
       "      <td>1.290000e-22</td>\n",
       "    </tr>\n",
       "    <tr>\n",
       "      <th>1380</th>\n",
       "      <td>6.90</td>\n",
       "      <td>1.120000e-22</td>\n",
       "    </tr>\n",
       "  </tbody>\n",
       "</table>\n",
       "<p>1381 rows × 2 columns</p>\n",
       "</div>"
      ],
      "text/plain": [
       "         X             Y\n",
       "0    -6.90  1.120000e-22\n",
       "1    -6.89  1.290000e-22\n",
       "2    -6.88  1.490000e-22\n",
       "3    -6.87  1.720000e-22\n",
       "4    -6.86  1.990000e-22\n",
       "...    ...           ...\n",
       "1376  6.86  1.990000e-22\n",
       "1377  6.87  1.720000e-22\n",
       "1378  6.88  1.490000e-22\n",
       "1379  6.89  1.290000e-22\n",
       "1380  6.90  1.120000e-22\n",
       "\n",
       "[1381 rows x 2 columns]"
      ]
     },
     "execution_count": 19,
     "metadata": {},
     "output_type": "execute_result"
    }
   ],
   "source": [
    "df"
   ]
  },
  {
   "cell_type": "code",
   "execution_count": null,
   "id": "8aefe4d4",
   "metadata": {},
   "outputs": [],
   "source": []
  }
 ],
 "metadata": {
  "kernelspec": {
   "display_name": "Python 3 (ipykernel)",
   "language": "python",
   "name": "python3"
  },
  "language_info": {
   "codemirror_mode": {
    "name": "ipython",
    "version": 3
   },
   "file_extension": ".py",
   "mimetype": "text/x-python",
   "name": "python",
   "nbconvert_exporter": "python",
   "pygments_lexer": "ipython3",
   "version": "3.9.7"
  }
 },
 "nbformat": 4,
 "nbformat_minor": 5
}
